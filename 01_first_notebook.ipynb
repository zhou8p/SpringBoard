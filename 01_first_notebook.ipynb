{
 "cells": [
  {
   "cell_type": "markdown",
   "metadata": {},
   "source": [
    "# Introduction\n",
    "this is my first Jupyter notebook"
   ]
  },
  {
   "cell_type": "code",
   "execution_count": 3,
   "metadata": {},
   "outputs": [
    {
     "name": "stdout",
     "output_type": "stream",
     "text": [
      "let us start it rr\n",
      "Hellooo rr\n"
     ]
    }
   ],
   "source": [
    "name = input('let us start it ')\n",
    "print('Hellooo ' + name)\n",
    "\n"
   ]
  },
  {
   "cell_type": "code",
   "execution_count": 19,
   "metadata": {},
   "outputs": [],
   "source": [
    "y=5\n",
    "y=6\n",
    "z= x+y"
   ]
  },
  {
   "cell_type": "code",
   "execution_count": 20,
   "metadata": {},
   "outputs": [
    {
     "name": "stdout",
     "output_type": "stream",
     "text": [
      "13\n"
     ]
    }
   ],
   "source": [
    "print(z)"
   ]
  },
  {
   "cell_type": "code",
   "execution_count": 13,
   "metadata": {
    "collapsed": true
   },
   "outputs": [
    {
     "name": "stdout",
     "output_type": "stream",
     "text": [
      "test \n",
      "test \n",
      "test \n",
      "test \n",
      "test \n",
      "test \n",
      "test \n",
      "test \n",
      "test \n",
      "test \n",
      "test \n",
      "test \n",
      "test \n",
      "test \n",
      "test \n",
      "test \n",
      "test \n",
      "test \n",
      "test \n",
      "test \n",
      "test \n",
      "test \n",
      "test \n",
      "test \n",
      "test \n",
      "test \n",
      "test \n",
      "test \n",
      "test \n",
      "test \n",
      "test \n",
      "test \n",
      "test \n",
      "test \n",
      "test \n",
      "test \n",
      "test \n",
      "test \n",
      "test \n",
      "test \n",
      "Wall time: 5.22 ms\n"
     ]
    }
   ],
   "source": [
    "%%time\n",
    "for i in range(40):\n",
    "    print ('test ')"
   ]
  },
  {
   "cell_type": "code",
   "execution_count": 11,
   "metadata": {},
   "outputs": [
    {
     "name": "stdout",
     "output_type": "stream",
     "text": [
      "\n"
     ]
    }
   ],
   "source": [
    "print()"
   ]
  },
  {
   "cell_type": "markdown",
   "metadata": {},
   "source": [
    "here i want to show....\n",
    "\n"
   ]
  },
  {
   "cell_type": "code",
   "execution_count": 14,
   "metadata": {},
   "outputs": [
    {
     "name": "stderr",
     "output_type": "stream",
     "text": [
      "UsageError: %%bash is a cell magic, but the cell body is empty.\n"
     ]
    }
   ],
   "source": [
    "%%bash\n"
   ]
  }
 ],
 "metadata": {
  "celltoolbar": "Edit Metadata",
  "kernelspec": {
   "display_name": "Python 3",
   "language": "python",
   "name": "python3"
  },
  "language_info": {
   "codemirror_mode": {
    "name": "ipython",
    "version": 3
   },
   "file_extension": ".py",
   "mimetype": "text/x-python",
   "name": "python",
   "nbconvert_exporter": "python",
   "pygments_lexer": "ipython3",
   "version": "3.8.5"
  }
 },
 "nbformat": 4,
 "nbformat_minor": 4
}
